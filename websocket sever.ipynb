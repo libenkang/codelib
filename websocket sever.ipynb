{
 "cells": [
  {
   "cell_type": "code",
   "execution_count": null,
   "metadata": {
    "scrolled": true
   },
   "outputs": [
    {
     "name": "stdout",
     "output_type": "stream",
     "text": [
      "WebSocketServer Start!\n",
      "Socket0 Start!i= 1\n",
      "\n",
      "\n",
      "-------------------------------------------------------------------------\n",
      "\n",
      "\n",
      "\n",
      "Socket0 Start Handshaken with ('127.0.0.1', 3459)!\n",
      "Handshaken packages from client: b'GET / HTTP/1.1\\r\\nHost: 127.0.0.1:12345\\r\\nConnection: Upgrade\\r\\nPragma: no-cache\\r\\nCache-Control: no-cache\\r\\nUpgrade: websocket\\r\\nOrigin: http://127.0.0.1:14884\\r\\nSec-WebSocket-Version: 13\\r\\nUser-Agent: wechatdevtools appservice port/37708 token/f1ee2bde43de59356f533ef35a322f50\\r\\nAccept-Encoding: gzip, deflate, br\\r\\nAccept-Language: zh-CN,zh;q=0.8\\r\\nReferer: https://servicewechat.com/wx3f8720e8922856ff/devtools/page-frame.html\\r\\nSec-WebSocket-Key: S0z8am1YFAY3QokVOxanKw==\\r\\nSec-WebSocket-Extensions: permessage-deflate; client_max_window_bits\\r\\n\\r\\n'\n",
      "Socket 0 Handshaken with ('127.0.0.1', 3459) success!\n",
      "sendMessage\n",
      "message_utf_8 : b'Welcome, 127.0.0.1 !'\n",
      "The length of message is 20\n",
      "it is going to send  b'\\x81\\x14Welcome, 127.0.0.1 !'\n",
      "###################\n",
      "\n",
      "\n",
      "ready to recv data, please wait...\n",
      "received data: b'\\x81\\x8c%\\x01\\xbeiMd\\xd2\\x05J!\\xcd\\x0cSd\\xccH'\n",
      "get data length : 18\n",
      "总长度是：12\n",
      "The data has been parsed to hello sever!\n",
      "\n",
      "sendMessage\n",
      "message_utf_8 : b\"11:18:53 ('127.0.0.1', 3459) say: hello sever!\"\n",
      "The length of message is 46\n",
      "it is going to send  b\"\\x81.11:18:53 ('127.0.0.1', 3459) say: hello sever!\"\n",
      "###################\n",
      "\n",
      "\n",
      "ready to recv data, please wait...\n",
      "received data: b'\\x81\\xc8\\xdfc\\xba\\x04\\xbc\\x0f\\xd5q\\xbbY\\x95+\\xa5\\x06\\xc8k\\xf2\\x00\\x8d5\\xee\\x06\\xd9*\\xe8\\x02\\x8c1\\xf2\\x19\\xdfv\\xb0N\\xd93\\xeeR\\xdfg\\xf2R\\x881\\xe6R\\x8e=\\xebV\\x83+\\xb2\\x1a\\x97m\\xb2\\x02\\xdda\\xedS\\x8b=\\xebR\\x8a5\\xefV\\x8f4\\xf1\\x13\\xd4c'\n",
      "get data length : 78\n",
      "总长度是：72\n",
      "The data has been parsed to cloud://zero-c711ec.7a65-zero-c711ec-1259149459/my-image201941010550.png\n",
      "\n",
      "sendMessage\n",
      "message_utf_8 : b\"11:18:57 ('127.0.0.1', 3459) say: cloud://zero-c711ec.7a65-zero-c711ec-1259149459/my-image201941010550.png\"\n",
      "The length of message is 106\n",
      "it is going to send  b\"\\x81j11:18:57 ('127.0.0.1', 3459) say: cloud://zero-c711ec.7a65-zero-c711ec-1259149459/my-image201941010550.png\"\n",
      "###################\n",
      "\n",
      "\n",
      "ready to recv data, please wait...\n",
      "received data: b'\\x81\\xc7\\xa7\\xca\\xcb\\x00\\xc4\\xa6\\xa4u\\xc3\\xf0\\xe4/\\xdd\\xaf\\xb9o\\x8a\\xa9\\xfc1\\x96\\xaf\\xa8.\\x90\\xab\\xfd5\\x8a\\xb0\\xaer\\xc8\\xe7\\xa87\\x96\\xfb\\xaec\\x8a\\xfb\\xf95\\x9e\\xfb\\xff9\\x93\\xff\\xf2/\\xca\\xb3\\xe6i\\xca\\xab\\xace\\x95\\xfa\\xfa9\\x93\\xfb\\xfb1\\x97\\xfc\\xfd.\\xed\\x9a\\x8c'\n",
      "get data length : 77\n",
      "总长度是：71\n",
      "The data has been parsed to cloud://zero-c711ec.7a65-zero-c711ec-1259149459/my-image20194101066.JPG\n",
      "\n",
      "sendMessage\n",
      "message_utf_8 : b\"11:19:07 ('127.0.0.1', 3459) say: cloud://zero-c711ec.7a65-zero-c711ec-1259149459/my-image20194101066.JPG\"\n",
      "The length of message is 105\n",
      "it is going to send  b\"\\x81i11:19:07 ('127.0.0.1', 3459) say: cloud://zero-c711ec.7a65-zero-c711ec-1259149459/my-image20194101066.JPG\"\n",
      "###################\n",
      "\n",
      "\n",
      "ready to recv data, please wait...\n",
      "received data: b'\\x81\\xc8\\x04T:\\xc6g8U\\xb3`n\\x15\\xe9~1H\\xa9)7\\r\\xf751Y\\xe835\\x0c\\xf3)._\\xb4kyY\\xf15e_\\xa5)e\\x08\\xf3=e\\x0e\\xff0a\\x03\\xe9i-\\x17\\xafi5]\\xa36d\\x0b\\xff0e\\n\\xf74c\\x0b\\xf4*\\x1ej\\x81'\n",
      "get data length : 78\n",
      "总长度是：72\n",
      "The data has been parsed to cloud://zero-c711ec.7a65-zero-c711ec-1259149459/my-image201941010712.JPG\n",
      "\n",
      "sendMessage\n",
      "message_utf_8 : b\"11:19:19 ('127.0.0.1', 3459) say: cloud://zero-c711ec.7a65-zero-c711ec-1259149459/my-image201941010712.JPG\"\n",
      "The length of message is 106\n",
      "it is going to send  b\"\\x81j11:19:19 ('127.0.0.1', 3459) say: cloud://zero-c711ec.7a65-zero-c711ec-1259149459/my-image201941010712.JPG\"\n",
      "###################\n",
      "\n",
      "\n",
      "ready to recv data, please wait...\n",
      "received data: b'\\x88\\x82s\\xfaT p\\x13'\n",
      "get data length : 8\n",
      "总长度是：2\n",
      "The data has been parsed to \u0003é\n",
      "\n",
      "sendMessage\n",
      "message_utf_8 : b\"11:44:56 ('127.0.0.1', 3459) say: \\x03\\xc3\\xa9\"\n",
      "The length of message is 37\n",
      "it is going to send  b\"\\x81%11:44:56 ('127.0.0.1', 3459) say: \\x03\\xc3\\xa9\"\n",
      "###################\n",
      "\n",
      "\n",
      "ready to recv data, please wait...\n"
     ]
    },
    {
     "name": "stderr",
     "output_type": "stream",
     "text": [
      "Exception in thread 127.0.0.1:\n",
      "Traceback (most recent call last):\n",
      "  File \"D:\\Anaconda3\\lib\\threading.py\", line 917, in _bootstrap_inner\n",
      "    self.run()\n",
      "  File \"<ipython-input-1-6e4e24e054a0>\", line 163, in run\n",
      "    recv=self.conn.recv(128)\n",
      "ConnectionAbortedError: [WinError 10053] 你的主机中的软件中止了一个已建立的连接。\n",
      "\n"
     ]
    }
   ],
   "source": [
    "#coding=utf8  \n",
    "#!/usr/bin/python  \n",
    "import struct,socket  \n",
    "import hashlib  \n",
    "import threading,random  \n",
    "import time  \n",
    "import struct  \n",
    "from base64 import b64encode, b64decode  \n",
    "\n",
    "connectionlist = {}  \n",
    "g_code_length = 0 \n",
    "g_header_length = 0 \n",
    "   \n",
    "def hex2dec(string_num):  \n",
    "    return str(int(string_num.upper(), 16))  \n",
    "   \n",
    "def get_datalength(msg):  \n",
    "    global g_code_length  \n",
    "    global g_header_length      \n",
    "       \n",
    "    print (\"get data length :\",len(msg))\n",
    "    g_code_length = msg[1] & 127 \n",
    "    received_length = 0;  \n",
    "    if g_code_length == 126:\n",
    "        #g_code_length = msg[2:4]  \n",
    "        #g_code_length = (ord(msg[2])<<8) + (ord(msg[3]))  \n",
    "        g_code_length = struct.unpack('>H', msg[2:4])[0]  \n",
    "        g_header_length = 8 \n",
    "    elif g_code_length == 127:  \n",
    "        #g_code_length = msg[2:10]  \n",
    "        g_code_length = struct.unpack('>Q', msg[2:10])[0]  \n",
    "        g_header_length = 14 \n",
    "    else:  \n",
    "        g_header_length = 6 \n",
    "    g_code_length = int(g_code_length)  \n",
    "    return g_code_length  \n",
    "           \n",
    "def parse_data(msg):  \n",
    "    global g_code_length  \n",
    "    g_code_length = msg[1] & 127 \n",
    "    received_length = 0;  \n",
    "    if g_code_length == 126:  \n",
    "        g_code_length = struct.unpack('>H', msg[2:4])[0]  #\n",
    "        masks = msg[4:8]  \n",
    "        data = msg[8:]  \n",
    "    elif g_code_length == 127:  \n",
    "        g_code_length = struct.unpack('>Q', msg[2:10])[0]  #\n",
    "        masks = msg[10:14]  \n",
    "        data = msg[14:]  \n",
    "    else:  \n",
    "        masks = msg[2:6]  \n",
    "        data = msg[6:]  \n",
    "        \n",
    "    i = 0 \n",
    "    raw_str = ''  \n",
    "    for d in data:  \n",
    "        raw_str += chr(d ^ masks[i%4])  \n",
    "        i += 1 \n",
    "    print (u\"总长度是：%d\" % int(g_code_length))      \n",
    "    return raw_str    \n",
    "   \n",
    "def sendMessage(message):  \n",
    "    global connectionlist  \n",
    "    print(\"sendMessage\")\n",
    "    message_utf_8 = message.encode('utf-8') \n",
    "    print('message_utf_8 :',message_utf_8)\n",
    "    for connection in connectionlist.values():  \n",
    "        back_str = []  \n",
    "        back_str.append(b'\\x81')  \n",
    "        data_length = len(message_utf_8)  \n",
    "        print(\"The length of message is\",data_length)\n",
    "   \n",
    "        if data_length <= 125:  \n",
    "            back_str.append(struct.pack('b',data_length))  \n",
    "        elif data_length <= 65535 :\n",
    "            back_str.append(struct.pack('b', 126))  \n",
    "            back_str.append(struct.pack('>h', data_length))  \n",
    "            #back_str.append(chr(data_length >> 8))  \n",
    "            #back_str.append(chr(data_length & 0xFF))  \n",
    "            #a = struct.pack('>h', data_length)  \n",
    "            #b = chr(data_length >> 8)  \n",
    "            #c = chr(data_length & 0xFF)  \n",
    "        elif data_length <= (2^64-1):  \n",
    "            #back_str.append(chr(127))  \n",
    "            back_str.append(struct.pack('b', 127))  \n",
    "            back_str.append(struct.pack('>q', data_length))  \n",
    "            #back_str.append(chr(data_length >> 8))  \n",
    "            #back_str.append(chr(data_length & 0xFF))        \n",
    "        else :  \n",
    "                print (u'it is too long to send in a time')          \n",
    "        msg = bytes()\n",
    "        for c in back_str:  \n",
    "            msg += c;  \n",
    "        back_str = msg + message_utf_8\n",
    "        #connection.send(str.encode(str(u\"\\x00%s\\xFF\\n\\n\" % message))) #这个是旧版  \n",
    "        #print (u'send message:' +  message)  \n",
    "        if back_str != None and len(back_str) > 0:  \n",
    "            print (\"it is going to send \",back_str)  \n",
    "            connection.send(back_str)  \n",
    "   \n",
    "   \n",
    "def deleteconnection(item):  \n",
    "    global connectionlist  \n",
    "    del connectionlist['connection'+item]  \n",
    "   \n",
    "   \n",
    "class WebSocket(threading.Thread):#继承Thread  \n",
    "   \n",
    "    GUID = \"258EAFA5-E914-47DA-95CA-C5AB0DC85B11\" \n",
    "   \n",
    "    def __init__(self,conn,index,name,remote, path=\"/\"):  \n",
    "        threading.Thread.__init__(self)#初始化父类Thread  \n",
    "        self.conn = conn  \n",
    "        self.index = index  \n",
    "        self.name = name  \n",
    "        self.remote = remote  \n",
    "        self.path = path  \n",
    "        self.buffer = \"\"  \n",
    "        self.buffer_utf8 = \"\"  \n",
    "        self.length_buffer = 0 \n",
    "    def run(self):#重载Thread的run  \n",
    "        print('Socket%s Start!' % self.index)  \n",
    "        headers = {}  \n",
    "        self.handshaken = False \n",
    "        while True:\n",
    "            global g_code_length  \n",
    "            global g_header_length\n",
    "            \n",
    "            if self.handshaken == False:\n",
    "                print ('Socket%s Start Handshaken with %s!' % (self.index,self.remote))  \n",
    "                rec=self.conn.recv(1024)\n",
    "                self.buffer += bytes.decode(rec)\n",
    "                print(\"Handshaken packages from client:\",rec)\n",
    "                if self.buffer.find('\\r\\n\\r\\n') != -1:\n",
    "                    header, data = self.buffer.split('\\r\\n\\r\\n', 1)  \n",
    "                    for line in header.split(\"\\r\\n\")[1:]:  \n",
    "                        key, value = line.split(\": \", 1)  \n",
    "                        headers[key] = value  \n",
    "   \n",
    "                    headers[\"Location\"] = (\"ws://%s%s\" %(headers[\"Host\"], self.path))  \n",
    "                    key = headers['Sec-WebSocket-Key']  \n",
    "                    token = b64encode(hashlib.sha1(str.encode(str(key + self.GUID))).digest())  \n",
    "   \n",
    "   \n",
    "                    handshake=\"HTTP/1.1 101 Switching Protocols\\r\\n\"\\\n",
    "                        \"Upgrade: websocket\\r\\n\"\\\n",
    "                        \"Connection: Upgrade\\r\\n\"\\\n",
    "                        \"Sec-WebSocket-Accept: \"+bytes.decode(token)+\"\\r\\n\"\\\n",
    "                        \"WebSocket-Origin: \"+str(headers[\"Origin\"])+\"\\r\\n\"\\\n",
    "                        \"WebSocket-Location: \"+str(headers[\"Location\"])+\"\\r\\n\\r\\n\" \n",
    "   \n",
    "   \n",
    "                    self.conn.send(str.encode(str(handshake)))  \n",
    "                    self.handshaken = True   \n",
    "                    print ('Socket %s Handshaken with %s success!' %(self.index, self.remote))    \n",
    "                    sendMessage(u'Welcome, ' + self.name + ' !')    \n",
    "                    self.buffer_utf8 = \"\"  \n",
    "                    g_code_length = 0                     \n",
    "   \n",
    "   \n",
    "            else:\n",
    "                print(\"ready to recv data, please wait...\")\n",
    "                recv=self.conn.recv(128)  \n",
    "                print(\"received data:\",recv)\n",
    "                if len(recv) <= 0:  \n",
    "                    print('length of this data is',len(recv))\n",
    "                    continue \n",
    "                if g_code_length == 0:  \n",
    "                    get_datalength(recv)\n",
    "                #接受的长度\n",
    "                self.length_buffer = self.length_buffer + len(recv)  \n",
    "                \n",
    "                self.buffer = self.buffer.encode('utf-8') + recv\n",
    "                if self.length_buffer - g_header_length < g_code_length :  \n",
    "                    continue \n",
    "                else :  \n",
    "                    self.buffer_utf8 = parse_data(self.buffer) #utf8      \n",
    "                    print('The data has been parsed to',self.buffer_utf8)\n",
    "                    print()\n",
    "                    msg_unicode = self.buffer_utf8#.decode('utf-8', 'ignore') #unicode  \n",
    "                    if msg_unicode=='quit':  \n",
    "                        print (u'Socket%s Logout!' % (self.index))  \n",
    "                        nowTime = time.strftime('%H:%M:%S',time.localtime(time.time()))  \n",
    "                        sendMessage(u'%s %s say: %s' % (nowTime, self.remote, self.name+' Logout'))                        \n",
    "                        deleteconnection(str(self.index))  \n",
    "                        self.conn.close()  \n",
    "                        break #退出线程  \n",
    "                    else:  \n",
    "                        #print (u'Socket%s Got msg:%s from %s!' % (self.index, msg_unicode, self.remote))  \n",
    "                        nowTime = time.strftime(u'%H:%M:%S',time.localtime(time.time()))  \n",
    "                        sendMessage(u'%s %s say: %s' % (nowTime, self.remote, msg_unicode))    \n",
    "                    #重置buffer和bufferlength  \n",
    "                    self.buffer_utf8 = \"\"  \n",
    "                    self.buffer = \"\"  \n",
    "                    g_code_length = 0 \n",
    "                    self.length_buffer = 0 \n",
    "            self.buffer = \"\"  \n",
    "            print(\"###################\")\n",
    "            print('\\n')\n",
    "        print(\"out run()\")\n",
    "   \n",
    "   \n",
    "class WebSocketServer(object):  \n",
    "    def __init__(self):  \n",
    "        self.socket = None \n",
    "    def begin(self):  \n",
    "        print( 'WebSocketServer Start!')  \n",
    "        self.socket = socket.socket(socket.AF_INET, socket.SOCK_STREAM)  \n",
    "        self.socket.setsockopt(socket.SOL_SOCKET,socket.SO_REUSEADDR,1)  \n",
    "        self.socket.bind((\"0.0.0.0\",12345))  \n",
    "        self.socket.listen(50)  \n",
    "   \n",
    "   \n",
    "        global connectionlist  \n",
    "   \n",
    "   \n",
    "        i=0 \n",
    "        while True:  \n",
    "            connection, address = self.socket.accept()  \n",
    "   \n",
    "   \n",
    "            username=address[0]       \n",
    "            newSocket = WebSocket(connection,i,username,address)  \n",
    "            newSocket.start() #开始线程,执行run函数  \n",
    "            connectionlist['connection'+str(i)]=connection  \n",
    "            i = i + 1 \n",
    "            print('i=',i)\n",
    "            print('\\n')\n",
    "            print('-------------------------------------------------------------------------')\n",
    "            print('\\n')\n",
    "   \n",
    "if __name__ == \"__main__\":  \n",
    "    server = WebSocketServer()  \n",
    "    server.begin() "
   ]
  },
  {
   "cell_type": "code",
   "execution_count": 1,
   "metadata": {},
   "outputs": [
    {
     "data": {
      "text/plain": [
       "'0x81'"
      ]
     },
     "execution_count": 1,
     "metadata": {},
     "output_type": "execute_result"
    }
   ],
   "source": [
    "(b'0x81').decode('utf-8')"
   ]
  },
  {
   "cell_type": "code",
   "execution_count": 4,
   "metadata": {},
   "outputs": [
    {
     "name": "stdout",
     "output_type": "stream",
     "text": [
      "\u0003êMasked frame from server\n"
     ]
    }
   ],
   "source": [
    "def parse_data(msg):\n",
    "    v = msg[1] & 0x7f\n",
    "    if v == 0x7e:\n",
    "        p = 4\n",
    "    elif v == 0x7f:\n",
    "        p = 10\n",
    "    else:\n",
    "        p = 2\n",
    "    p=2\n",
    "    mask = msg[p:p + 4]\n",
    "    data = msg[p + 4:]\n",
    "\n",
    "    return ''.join([chr(v ^ mask[k % 4]) for k, v in enumerate(data)])\n",
    "\n",
    "m=b'\\x88\\x9a/\\xc3s\\xe8,)>\\x89\\\\\\xa8\\x16\\x8c\\x0f\\xa5\\x01\\x89B\\xa6S\\x8e]\\xac\\x1e\\xc8\\\\\\xa6\\x01\\x9eJ\\xb1'\n",
    "# m=b'\\x88\\x9a#\\x82\\x0f\\x01 hB`P\\xe9je\\x03\\xe4}`N\\xe7/gQ\\xedb!P\\xe7}wF\\xf0'\n",
    "print(parse_data(m))"
   ]
  },
  {
   "cell_type": "code",
   "execution_count": 8,
   "metadata": {},
   "outputs": [
    {
     "data": {
      "text/plain": [
       "b'aa'"
      ]
     },
     "execution_count": 8,
     "metadata": {},
     "output_type": "execute_result"
    }
   ],
   "source": [
    "'a'.encode('utf-8')+'a'.encode('utf-8')"
   ]
  },
  {
   "cell_type": "code",
   "execution_count": 7,
   "metadata": {},
   "outputs": [
    {
     "name": "stdout",
     "output_type": "stream",
     "text": [
      "<class 'str'>\n"
     ]
    }
   ],
   "source": [
    "print(type(u'ni'))"
   ]
  },
  {
   "cell_type": "code",
   "execution_count": 1,
   "metadata": {},
   "outputs": [
    {
     "data": {
      "text/plain": [
       "18"
      ]
     },
     "execution_count": 1,
     "metadata": {},
     "output_type": "execute_result"
    }
   ],
   "source": [
    "0x12"
   ]
  },
  {
   "cell_type": "code",
   "execution_count": 8,
   "metadata": {},
   "outputs": [
    {
     "name": "stdout",
     "output_type": "stream",
     "text": [
      "1 \n",
      " 2 \n",
      " 3\n"
     ]
    }
   ],
   "source": [
    "print(1,'\\n',2,'\\n',3)"
   ]
  },
  {
   "cell_type": "code",
   "execution_count": 3,
   "metadata": {},
   "outputs": [
    {
     "data": {
      "text/plain": [
       "12"
      ]
     },
     "execution_count": 3,
     "metadata": {},
     "output_type": "execute_result"
    }
   ],
   "source": [
    "mm =b'\\x81\\x86\\x98\\x06\\x1c\\xe1\\xaany\\x8d\\xf4i'\n",
    "len(mm)"
   ]
  },
  {
   "cell_type": "code",
   "execution_count": null,
   "metadata": {},
   "outputs": [],
   "source": []
  }
 ],
 "metadata": {
  "kernelspec": {
   "display_name": "Python 3",
   "language": "python",
   "name": "python3"
  },
  "language_info": {
   "codemirror_mode": {
    "name": "ipython",
    "version": 3
   },
   "file_extension": ".py",
   "mimetype": "text/x-python",
   "name": "python",
   "nbconvert_exporter": "python",
   "pygments_lexer": "ipython3",
   "version": "3.7.1"
  }
 },
 "nbformat": 4,
 "nbformat_minor": 2
}
